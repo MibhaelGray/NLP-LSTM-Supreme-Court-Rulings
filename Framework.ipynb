{
 "cells": [
  {
   "cell_type": "code",
   "execution_count": 14,
   "id": "4f32bb5c",
   "metadata": {},
   "outputs": [
    {
     "name": "stdout",
     "output_type": "stream",
     "text": [
      "Fetching Kalshi contracts expiring within 90 days…\n",
      "Found 100 markets; 0 have valid IDs\n",
      "  → wrote 0 rows to CSV\n"
     ]
    }
   ],
   "source": [
    "import requests\n",
    "import csv\n",
    "from datetime import datetime, timedelta\n",
    "\n",
    "def get_kalshi_contract_expirations():\n",
    "    base_url = \"https://demo-api.kalshi.co/trade-api/v2\"\n",
    "    now = datetime.utcnow()\n",
    "    cutoff = now + timedelta(days=90)\n",
    "    cutoff_str = cutoff.strftime(\"%Y-%m-%dT%H:%M:%SZ\")\n",
    "\n",
    "    # 1) fetch open markets expiring soon\n",
    "    markets_resp = requests.get(\n",
    "        f\"{base_url}/markets\",\n",
    "        params={\"status\": \"open\", \"max_close_time\": cutoff_str},\n",
    "        timeout=10\n",
    "    )\n",
    "    markets_resp.raise_for_status()\n",
    "\n",
    "    all_markets = markets_resp.json().get(\"markets\", [])\n",
    "    # 2) drop any without a valid id\n",
    "    valid_markets = [m for m in all_markets if m.get(\"id\")]\n",
    "    print(f\"Found {len(all_markets)} markets; {len(valid_markets)} have valid IDs\")\n",
    "\n",
    "    results = []\n",
    "\n",
    "    for market in valid_markets:\n",
    "        market_id   = market[\"id\"]\n",
    "        market_name = market.get(\"title\", \"Unknown\")\n",
    "\n",
    "        # parse close_time\n",
    "        close_str = market.get(\"close_time\", \"\")\n",
    "        try:\n",
    "            if \".\" in close_str:\n",
    "                close_dt = datetime.strptime(close_str, \"%Y-%m-%dT%H:%M:%S.%fZ\")\n",
    "            else:\n",
    "                close_dt = datetime.strptime(close_str, \"%Y-%m-%dT%H:%M:%SZ\")\n",
    "        except Exception:\n",
    "            print(f\"  ❗ couldn't parse close_time {close_str!r} for {market_name}\")\n",
    "            continue\n",
    "\n",
    "        delta = close_dt - now\n",
    "        days = delta.days\n",
    "        hours = delta.seconds // 3600\n",
    "        time_remaining = f\"{days} days, {hours} hours\"\n",
    "\n",
    "        # fetch that market’s contracts\n",
    "        url = f\"{base_url}/markets/{market_id}/contracts\"\n",
    "        ctr_resp = requests.get(url, timeout=10)\n",
    "        if ctr_resp.status_code != 200:\n",
    "            print(f\"  ⚠️ skipping {market_id!r} – got {ctr_resp.status_code}\")\n",
    "            continue\n",
    "\n",
    "        contracts = ctr_resp.json().get(\"contracts\", [])\n",
    "        for c in contracts:\n",
    "            results.append({\n",
    "                \"Market Name\": market_name,\n",
    "                \"Contract ID\":  c.get(\"id\"),\n",
    "                \"Time to Resolution\": time_remaining\n",
    "            })\n",
    "\n",
    "    # write CSV\n",
    "    with open(\"contract_expirations.csv\", \"w\", newline=\"\") as f:\n",
    "        writer = csv.DictWriter(f, fieldnames=[\"Market Name\",\"Contract ID\",\"Time to Resolution\"])\n",
    "        writer.writeheader()\n",
    "        writer.writerows(results)\n",
    "\n",
    "    return results\n",
    "\n",
    "if __name__ == \"__main__\":\n",
    "    print(\"Fetching Kalshi contracts expiring within 90 days…\")\n",
    "    data = get_kalshi_contract_expirations()\n",
    "    print(f\"  → wrote {len(data)} rows to CSV\")"
   ]
  }
 ],
 "metadata": {
  "kernelspec": {
   "display_name": "Python 3",
   "language": "python",
   "name": "python3"
  },
  "language_info": {
   "codemirror_mode": {
    "name": "ipython",
    "version": 3
   },
   "file_extension": ".py",
   "mimetype": "text/x-python",
   "name": "python",
   "nbconvert_exporter": "python",
   "pygments_lexer": "ipython3",
   "version": "3.9.5"
  }
 },
 "nbformat": 4,
 "nbformat_minor": 5
}
